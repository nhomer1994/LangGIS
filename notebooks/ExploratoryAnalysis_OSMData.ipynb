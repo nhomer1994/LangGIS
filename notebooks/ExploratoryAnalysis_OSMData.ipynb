{
 "cells": [
  {
   "cell_type": "code",
   "execution_count": 1,
   "id": "31118323",
   "metadata": {},
   "outputs": [
    {
     "ename": "ModuleNotFoundError",
     "evalue": "No module named 'osmnx'",
     "output_type": "error",
     "traceback": [
      "\u001b[1;31m---------------------------------------------------------------------------\u001b[0m",
      "\u001b[1;31mModuleNotFoundError\u001b[0m                       Traceback (most recent call last)",
      "\u001b[1;32m<ipython-input-1-d3b2336704c4>\u001b[0m in \u001b[0;36m<module>\u001b[1;34m()\u001b[0m\n\u001b[0;32m      1\u001b[0m \u001b[1;31m# EDA: Fetch, Explore, and Visualize OSM Park Polygons for Edinburgh\u001b[0m\u001b[1;33m\u001b[0m\u001b[1;33m\u001b[0m\u001b[0m\n\u001b[0;32m      2\u001b[0m \u001b[1;33m\u001b[0m\u001b[0m\n\u001b[1;32m----> 3\u001b[1;33m \u001b[1;32mimport\u001b[0m \u001b[0mosmnx\u001b[0m \u001b[1;32mas\u001b[0m \u001b[0mox\u001b[0m\u001b[1;33m\u001b[0m\u001b[0m\n\u001b[0m\u001b[0;32m      4\u001b[0m \u001b[1;32mimport\u001b[0m \u001b[0mgeopandas\u001b[0m \u001b[1;32mas\u001b[0m \u001b[0mgpd\u001b[0m\u001b[1;33m\u001b[0m\u001b[0m\n\u001b[0;32m      5\u001b[0m \u001b[1;32mimport\u001b[0m \u001b[0mmatplotlib\u001b[0m\u001b[1;33m.\u001b[0m\u001b[0mpyplot\u001b[0m \u001b[1;32mas\u001b[0m \u001b[0mplt\u001b[0m\u001b[1;33m\u001b[0m\u001b[0m\n",
      "\u001b[1;31mModuleNotFoundError\u001b[0m: No module named 'osmnx'"
     ]
    }
   ],
   "source": [
    "# EDA: Fetch, Explore, and Visualize OSM Park Polygons for Edinburgh\n",
    "\n",
    "import osmnx as ox\n",
    "import geopandas as gpd\n",
    "import matplotlib.pyplot as plt\n",
    "\n",
    "# 1. Fetch park polygons for Edinburgh\n",
    "place = \"Edinburgh, Scotland, UK\"\n",
    "tags = {\"leisure\": \"park\"}\n",
    "\n",
    "parks_gdf = ox.geometries_from_place(place, tags=tags)\n",
    "print(f\"Fetched {len(parks_gdf)} parks.\")\n",
    "\n",
    "# 2. Basic EDA: View and inspect data\n",
    "display(parks_gdf.head())\n",
    "display(parks_gdf.columns)\n",
    "\n",
    "# 3. Plot parks on a map\n",
    "fig, ax = plt.subplots(figsize=(10, 8))\n",
    "parks_gdf.plot(ax=ax, color=\"green\", edgecolor=\"black\", alpha=0.7)\n",
    "ax.set_title(\"Parks in Edinburgh (OSM)\", fontsize=16)\n",
    "plt.show()\n",
    "\n",
    "# 4. Sanity check geometry types\n",
    "print(parks_gdf.geom_type.value_counts())\n",
    "\n",
    "# 5. Save a sample for later processing\n",
    "sample_path = \"../data/edinburgh_parks_sample.geojson\"\n",
    "parks_gdf.to_file(sample_path, driver=\"GeoJSON\")\n",
    "print(f\"Sample written to {sample_path}\")\n"
   ]
  },
  {
   "cell_type": "code",
   "execution_count": null,
   "id": "e1f77567",
   "metadata": {},
   "outputs": [],
   "source": []
  }
 ],
 "metadata": {
  "kernelspec": {
   "display_name": "Python 3",
   "language": "python",
   "name": "python3"
  },
  "language_info": {
   "codemirror_mode": {
    "name": "ipython",
    "version": 3
   },
   "file_extension": ".py",
   "mimetype": "text/x-python",
   "name": "python",
   "nbconvert_exporter": "python",
   "pygments_lexer": "ipython3",
   "version": "3.6.1"
  }
 },
 "nbformat": 4,
 "nbformat_minor": 5
}
